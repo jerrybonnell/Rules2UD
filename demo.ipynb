{
 "cells": [
  {
   "cell_type": "code",
   "execution_count": 1,
   "metadata": {},
   "outputs": [
    {
     "name": "stdout",
     "output_type": "stream",
     "text": [
      "delete redundant rules : \u001b[1m[\u001b[0m\u001b[32m'かつた'\u001b[0m, \u001b[32m'はしき'\u001b[0m, \u001b[32m'はしく'\u001b[0m, \u001b[32m'ふなり'\u001b[0m, \u001b[32m'ふたり'\u001b[0m\u001b[1m]\u001b[0m\n",
      "delete redundant rules : \u001b[1m[\u001b[0m\u001b[32m'廣く'\u001b[0m, \u001b[32m'委讓'\u001b[0m, \u001b[32m'といはん'\u001b[0m\u001b[1m]\u001b[0m\n",
      "\u001b[1m(\u001b[0m\u001b[32m'sents.txt'\u001b[0m, \u001b[32m'txt'\u001b[0m, \u001b[3;92mTrue\u001b[0m, \u001b[32m'ginza'\u001b[0m, \u001b[32m'out'\u001b[0m, \u001b[3;91mFalse\u001b[0m\u001b[1m)\u001b[0m\n",
      "\u001b[2KWorking... \u001b[90m━━━━━━━━━━━━━━━━━━━━━━━━━━━━━━━━━━━━━━━━\u001b[0m \u001b[35m  0%\u001b[0m \u001b[36m-:--:--\u001b[0m\n",
      "log : \u001b[1m{\u001b[0m\u001b[32m'ふ'\u001b[0m: \u001b[1m[\u001b[0m\u001b[1m(\u001b[0m\u001b[1;36m7\u001b[0m, \u001b[1;36m7\u001b[0m\u001b[1m)\u001b[0m\u001b[1m]\u001b[0m, \u001b[32m'會'\u001b[0m: \u001b[1m[\u001b[0m\u001b[1m(\u001b[0m\u001b[1;36m1\u001b[0m, \u001b[1;36m1\u001b[0m\u001b[1m)\u001b[0m\u001b[1m]\u001b[0m, \u001b[32m'從'\u001b[0m: \u001b[1m[\u001b[0m\u001b[1m(\u001b[0m\u001b[1;36m6\u001b[0m, \u001b[1;36m6\u001b[0m\u001b[1m)\u001b[0m\u001b[1m]\u001b[0m, \u001b[32m'發'\u001b[0m: \u001b[1m[\u001b[0m\u001b[1m(\u001b[0m\u001b[1;36m3\u001b[0m, \u001b[1;36m3\u001b[0m\u001b[1m)\u001b[0m\u001b[1m]\u001b[0m\u001b[1m}\u001b[0m\n",
      "\n",
      "\u001b[1;32mno corruptions found in FORM ✅ \u001b[0m\n",
      "# text = 社會の發達に從ふて、\n",
      "\u001b[1;36m1\u001b[0m       社會      社会      NOUN    名詞-普通名詞-一般      _       \u001b[1;36m3\u001b[0m       nmod\n",
      "_       \u001b[33mSpaceAfter\u001b[0m=\u001b[35mNo\u001b[0m|\u001b[33mBunsetuBILabel\u001b[0m=\u001b[35mB\u001b[0m|\u001b[33mBunsetuPositionType\u001b[0m=\u001b[35mSEM_HEAD\u001b[0m|NP_B|\u001b[33mReading\u001b[0m\n",
      "=\u001b[35mシャカイ\u001b[0m\n",
      "\u001b[1;36m2\u001b[0m       の       の       ADP     助詞-格助詞  _       \u001b[1;36m1\u001b[0m       case    _       \n",
      "\u001b[33mSpaceAfter\u001b[0m=\u001b[35mNo\u001b[0m|\u001b[33mBunsetuBILabel\u001b[0m=\u001b[35mI\u001b[0m|\u001b[33mBunsetuPositionType\u001b[0m=\u001b[35mSYN_HEAD\u001b[0m|\u001b[33mReading\u001b[0m=\u001b[35mノ\u001b[0m\n",
      "\u001b[1;36m3\u001b[0m       發達      発達      NOUN    名詞-普通名詞-サ変可能    _       \u001b[1;36m5\u001b[0m       \n",
      "obl     _       \u001b[33mSpaceAfter\u001b[0m=\u001b[35mNo\u001b[0m|\u001b[33mBunsetuBILabel\u001b[0m=\u001b[35mB\u001b[0m|\u001b[33mBunsetuPositionType\u001b[0m=\u001b[35mSEM_HEAD\u001b[0m|NP_B\n",
      "|\u001b[33mReading\u001b[0m=\u001b[35mハッタツ\u001b[0m\n",
      "\u001b[1;36m4\u001b[0m       に       に       ADP     助詞-格助詞  _       \u001b[1;36m3\u001b[0m       case    _       \n",
      "\u001b[33mSpaceAfter\u001b[0m=\u001b[35mNo\u001b[0m|\u001b[33mBunsetuBILabel\u001b[0m=\u001b[35mI\u001b[0m|\u001b[33mBunsetuPositionType\u001b[0m=\u001b[35mSYN_HEAD\u001b[0m|\u001b[33mReading\u001b[0m=\u001b[35mニ\u001b[0m\n",
      "\u001b[1;36m5\u001b[0m       從ふ      従う      VERB    動詞-一般   _       \u001b[1;36m0\u001b[0m       root    _       \n",
      "\u001b[33mSpaceAfter\u001b[0m=\u001b[35mNo\u001b[0m|\u001b[33mBunsetuBILabel\u001b[0m=\u001b[35mB\u001b[0m|\u001b[33mBunsetuPositionType\u001b[0m=\u001b[35mROOT\u001b[0m|\u001b[33mInf\u001b[0m=\u001b[35m五段\u001b[0m-ワア行,連用形-\n",
      "ウ音便|\u001b[33mReading\u001b[0m=\u001b[35mシタゴウ\u001b[0m\n",
      "\u001b[1;36m6\u001b[0m       て       て       SCONJ   助詞-接続助詞 _       \u001b[1;36m5\u001b[0m       mark    _       \n",
      "\u001b[33mSpaceAfter\u001b[0m=\u001b[35mNo\u001b[0m|\u001b[33mBunsetuBILabel\u001b[0m=\u001b[35mI\u001b[0m|\u001b[33mBunsetuPositionType\u001b[0m=\u001b[35mSYN_HEAD\u001b[0m|\u001b[33mReading\u001b[0m=\u001b[35mテ\u001b[0m\n",
      "\u001b[1;36m7\u001b[0m       、       、       PUNCT   補助記号-読点 _       \u001b[1;36m5\u001b[0m       punct   _       \n",
      "\u001b[33mSpaceAfter\u001b[0m=\u001b[35mNo\u001b[0m|\u001b[33mBunsetuBILabel\u001b[0m=\u001b[35mI\u001b[0m|\u001b[33mBunsetuPositionType\u001b[0m=\u001b[35mCONT\u001b[0m|\u001b[33mReading\u001b[0m=、\n",
      "\n",
      "\n",
      "\u001b[2KWorking... \u001b[91m━━━━━━━━━━━━━━━━━━━━\u001b[0m\u001b[90m╺\u001b[0m\u001b[90m━━━━━━━━━━━━━━━━━━━\u001b[0m \u001b[35m 50%\u001b[0m \u001b[36m-:--:--\u001b[0m\n",
      "log : \u001b[1m{\u001b[0m\u001b[1m}\u001b[0m\n",
      "\n",
      "\u001b[1;32mno corruptions found in FORM ✅ \u001b[0m\n",
      "# text = 国境の長いトンネルを抜けると雪国であった。\n",
      "\u001b[1;36m1\u001b[0m       国境      国境      NOUN    名詞-普通名詞-一般      _       \u001b[1;36m4\u001b[0m       nmod\n",
      "_       \u001b[33mSpaceAfter\u001b[0m=\u001b[35mNo\u001b[0m|\u001b[33mBunsetuBILabel\u001b[0m=\u001b[35mB\u001b[0m|\u001b[33mBunsetuPositionType\u001b[0m=\u001b[35mSEM_HEAD\u001b[0m|NP_B|\u001b[33mReading\u001b[0m\n",
      "=\u001b[35mコッキョウ\u001b[0m\n",
      "\u001b[1;36m2\u001b[0m       の       の       ADP     助詞-格助詞  _       \u001b[1;36m1\u001b[0m       case    _       \n",
      "\u001b[33mSpaceAfter\u001b[0m=\u001b[35mNo\u001b[0m|\u001b[33mBunsetuBILabel\u001b[0m=\u001b[35mI\u001b[0m|\u001b[33mBunsetuPositionType\u001b[0m=\u001b[35mSYN_HEAD\u001b[0m|\u001b[33mReading\u001b[0m=\u001b[35mノ\u001b[0m\n",
      "\u001b[1;36m3\u001b[0m       長い      長い      ADJ     形容詞-一般  _       \u001b[1;36m4\u001b[0m       acl     _      \n",
      "\u001b[33mSpaceAfter\u001b[0m=\u001b[35mNo\u001b[0m|\u001b[33mBunsetuBILabel\u001b[0m=\u001b[35mB\u001b[0m|\u001b[33mBunsetuPositionType\u001b[0m=\u001b[35mSEM_HEAD\u001b[0m|\u001b[33mInf\u001b[0m=\u001b[35m形容詞\u001b[0m,連体形-一\n",
      "般|\u001b[33mReading\u001b[0m=\u001b[35mナガイ\u001b[0m\n",
      "\u001b[1;36m4\u001b[0m       トンネル    トンネル    NOUN    名詞-普通名詞-サ変可能    _       \u001b[1;36m6\u001b[0m     \n",
      "obj     _       \u001b[33mSpaceAfter\u001b[0m=\u001b[35mNo\u001b[0m|\u001b[33mBunsetuBILabel\u001b[0m=\u001b[35mB\u001b[0m|\u001b[33mBunsetuPositionType\u001b[0m=\u001b[35mSEM_HEAD\u001b[0m|NP_B\n",
      "|\u001b[33mReading\u001b[0m=\u001b[35mトンネル\u001b[0m\n",
      "\u001b[1;36m5\u001b[0m       を       を       ADP     助詞-格助詞  _       \u001b[1;36m4\u001b[0m       case    _       \n",
      "\u001b[33mSpaceAfter\u001b[0m=\u001b[35mNo\u001b[0m|\u001b[33mBunsetuBILabel\u001b[0m=\u001b[35mI\u001b[0m|\u001b[33mBunsetuPositionType\u001b[0m=\u001b[35mSYN_HEAD\u001b[0m|\u001b[33mReading\u001b[0m=\u001b[35mヲ\u001b[0m\n",
      "\u001b[1;36m6\u001b[0m       抜ける     抜ける     VERB    動詞-非自立可能        _       \u001b[1;36m8\u001b[0m       acl\n",
      "_       \u001b[33mSpaceAfter\u001b[0m=\u001b[35mNo\u001b[0m|\u001b[33mBunsetuBILabel\u001b[0m=\u001b[35mB\u001b[0m|\u001b[33mBunsetuPositionType\u001b[0m=\u001b[35mSEM_HEAD\u001b[0m|\u001b[33mInf\u001b[0m=\u001b[35m下一段\u001b[0m-\n",
      "カ行,終止形-一般|\u001b[33mReading\u001b[0m=\u001b[35mヌケル\u001b[0m\n",
      "\u001b[1;36m7\u001b[0m       と       と       SCONJ   助詞-接続助詞 _       \u001b[1;36m6\u001b[0m       mark    _       \n",
      "\u001b[33mSpaceAfter\u001b[0m=\u001b[35mNo\u001b[0m|\u001b[33mBunsetuBILabel\u001b[0m=\u001b[35mI\u001b[0m|\u001b[33mBunsetuPositionType\u001b[0m=\u001b[35mSYN_HEAD\u001b[0m|\u001b[33mReading\u001b[0m=\u001b[35mト\u001b[0m\n",
      "\u001b[1;36m8\u001b[0m       雪国      雪国      NOUN    名詞-普通名詞-一般      _       \u001b[1;36m0\u001b[0m       root\n",
      "_       \n",
      "\u001b[33mSpaceAfter\u001b[0m=\u001b[35mNo\u001b[0m|\u001b[33mBunsetuBILabel\u001b[0m=\u001b[35mB\u001b[0m|\u001b[33mBunsetuPositionType\u001b[0m=\u001b[35mROOT\u001b[0m|NP_B|\u001b[33mReading\u001b[0m=\u001b[35mユキグニ\u001b[0m\n",
      "\u001b[1;36m9\u001b[0m       で       だ       AUX     助動詞     _       \u001b[1;36m8\u001b[0m       cop     _       \u001b[33mSpa\u001b[0m\n",
      "\u001b[33mceAfter\u001b[0m=\u001b[35mNo\u001b[0m|\u001b[33mBunsetuBILabel\u001b[0m=\u001b[35mI\u001b[0m|\u001b[33mBunsetuPositionType\u001b[0m=\u001b[35mSYN_HEAD\u001b[0m|\u001b[33mInf\u001b[0m=\u001b[35m助動詞\u001b[0m-ダ,連用形-一\n",
      "般|\u001b[33mReading\u001b[0m=\u001b[35mデ\u001b[0m\n",
      "\u001b[1;36m10\u001b[0m      あっ      ある      AUX     動詞-非自立可能        _       \u001b[1;36m8\u001b[0m       aux  \n",
      "_       \u001b[33mSpaceAfter\u001b[0m=\u001b[35mNo\u001b[0m|\u001b[33mBunsetuBILabel\u001b[0m=\u001b[35mI\u001b[0m|\u001b[33mBunsetuPositionType\u001b[0m=\u001b[35mSYN_HEAD\u001b[0m|\u001b[33mInf\u001b[0m=\u001b[35m五段\u001b[0m-ラ\n",
      "行,連用形-促音便|\u001b[33mReading\u001b[0m=\u001b[35mアッ\u001b[0m\n",
      "\u001b[1;36m11\u001b[0m      た       た       AUX     助動詞     _       \u001b[1;36m8\u001b[0m       aux     _       \u001b[33mSpa\u001b[0m\n",
      "\u001b[33mceAfter\u001b[0m=\u001b[35mNo\u001b[0m|\u001b[33mBunsetuBILabel\u001b[0m=\u001b[35mI\u001b[0m|\u001b[33mBunsetuPositionType\u001b[0m=\u001b[35mSYN_HEAD\u001b[0m|\u001b[33mInf\u001b[0m=\u001b[35m助動詞\u001b[0m-タ,終止形-一\n",
      "般|\u001b[33mReading\u001b[0m=\u001b[35mタ\u001b[0m\n",
      "\u001b[1;36m12\u001b[0m      。       。       PUNCT   補助記号-句点 _       \u001b[1;36m8\u001b[0m       punct   _       \n",
      "\u001b[33mSpaceAfter\u001b[0m=\u001b[35mNo\u001b[0m|\u001b[33mBunsetuBILabel\u001b[0m=\u001b[35mI\u001b[0m|\u001b[33mBunsetuPositionType\u001b[0m=\u001b[35mCONT\u001b[0m|\u001b[33mReading\u001b[0m=。\n",
      "\n",
      "\n",
      "\u001b[2KWorking... \u001b[90m━━━━━━━━━━━━━━━━━━━━━━━━━━━━━━━━━━━━━━━━\u001b[0m \u001b[35m100%\u001b[0m \u001b[36m0:00:00\u001b[0mm \u001b[36m-:--:--\u001b[0m\n",
      "\u001b[?25h\u001b[1;32mwrote output conllu to out/sents.conllu\u001b[0m\n"
     ]
    }
   ],
   "source": [
    "!python modify_conllu.py sents.txt True \"ginza\" \"out\" False"
   ]
  },
  {
   "cell_type": "code",
   "execution_count": 2,
   "metadata": {},
   "outputs": [
    {
     "name": "stdout",
     "output_type": "stream",
     "text": [
      "delete redundant rules : \u001b[1m[\u001b[0m\u001b[32m'かつた'\u001b[0m, \u001b[32m'はしき'\u001b[0m, \u001b[32m'はしく'\u001b[0m, \u001b[32m'ふなり'\u001b[0m, \u001b[32m'ふたり'\u001b[0m\u001b[1m]\u001b[0m\n",
      "delete redundant rules : \u001b[1m[\u001b[0m\u001b[32m'廣く'\u001b[0m, \u001b[32m'委讓'\u001b[0m, \u001b[32m'といはん'\u001b[0m\u001b[1m]\u001b[0m\n",
      "\u001b[1m(\u001b[0m\u001b[1m[\u001b[0m\u001b[32m'社會の發達に從ふて、\\n'\u001b[0m\u001b[1m]\u001b[0m, \u001b[32m'list'\u001b[0m, \u001b[3;92mTrue\u001b[0m, \u001b[32m'ginza'\u001b[0m, \u001b[32m'out'\u001b[0m, \u001b[3;91mFalse\u001b[0m\u001b[1m)\u001b[0m\n",
      "\u001b[2KWorking... \u001b[90m━━━━━━━━━━━━━━━━━━━━━━━━━━━━━━━━━━━━━━━━\u001b[0m \u001b[35m  0%\u001b[0m \u001b[36m-:--:--\u001b[0m\n",
      "log : \u001b[1m{\u001b[0m\u001b[32m'ふ'\u001b[0m: \u001b[1m[\u001b[0m\u001b[1m(\u001b[0m\u001b[1;36m7\u001b[0m, \u001b[1;36m7\u001b[0m\u001b[1m)\u001b[0m\u001b[1m]\u001b[0m, \u001b[32m'會'\u001b[0m: \u001b[1m[\u001b[0m\u001b[1m(\u001b[0m\u001b[1;36m1\u001b[0m, \u001b[1;36m1\u001b[0m\u001b[1m)\u001b[0m\u001b[1m]\u001b[0m, \u001b[32m'從'\u001b[0m: \u001b[1m[\u001b[0m\u001b[1m(\u001b[0m\u001b[1;36m6\u001b[0m, \u001b[1;36m6\u001b[0m\u001b[1m)\u001b[0m\u001b[1m]\u001b[0m, \u001b[32m'發'\u001b[0m: \u001b[1m[\u001b[0m\u001b[1m(\u001b[0m\u001b[1;36m3\u001b[0m, \u001b[1;36m3\u001b[0m\u001b[1m)\u001b[0m\u001b[1m]\u001b[0m\u001b[1m}\u001b[0m\n",
      "\n",
      "\u001b[1;32mno corruptions found in FORM ✅ \u001b[0m\n",
      "# text = 社會の發達に從ふて、\n",
      "\u001b[1;36m1\u001b[0m       社會      社会      NOUN    名詞-普通名詞-一般      _       \u001b[1;36m3\u001b[0m       nmod\n",
      "_       \u001b[33mSpaceAfter\u001b[0m=\u001b[35mNo\u001b[0m|\u001b[33mBunsetuBILabel\u001b[0m=\u001b[35mB\u001b[0m|\u001b[33mBunsetuPositionType\u001b[0m=\u001b[35mSEM_HEAD\u001b[0m|NP_B|\u001b[33mReading\u001b[0m\n",
      "=\u001b[35mシャカイ\u001b[0m\n",
      "\u001b[1;36m2\u001b[0m       の       の       ADP     助詞-格助詞  _       \u001b[1;36m1\u001b[0m       case    _       \n",
      "\u001b[33mSpaceAfter\u001b[0m=\u001b[35mNo\u001b[0m|\u001b[33mBunsetuBILabel\u001b[0m=\u001b[35mI\u001b[0m|\u001b[33mBunsetuPositionType\u001b[0m=\u001b[35mSYN_HEAD\u001b[0m|\u001b[33mReading\u001b[0m=\u001b[35mノ\u001b[0m\n",
      "\u001b[1;36m3\u001b[0m       發達      発達      NOUN    名詞-普通名詞-サ変可能    _       \u001b[1;36m5\u001b[0m       \n",
      "obl     _       \u001b[33mSpaceAfter\u001b[0m=\u001b[35mNo\u001b[0m|\u001b[33mBunsetuBILabel\u001b[0m=\u001b[35mB\u001b[0m|\u001b[33mBunsetuPositionType\u001b[0m=\u001b[35mSEM_HEAD\u001b[0m|NP_B\n",
      "|\u001b[33mReading\u001b[0m=\u001b[35mハッタツ\u001b[0m\n",
      "\u001b[1;36m4\u001b[0m       に       に       ADP     助詞-格助詞  _       \u001b[1;36m3\u001b[0m       case    _       \n",
      "\u001b[33mSpaceAfter\u001b[0m=\u001b[35mNo\u001b[0m|\u001b[33mBunsetuBILabel\u001b[0m=\u001b[35mI\u001b[0m|\u001b[33mBunsetuPositionType\u001b[0m=\u001b[35mSYN_HEAD\u001b[0m|\u001b[33mReading\u001b[0m=\u001b[35mニ\u001b[0m\n",
      "\u001b[1;36m5\u001b[0m       從ふ      従う      VERB    動詞-一般   _       \u001b[1;36m0\u001b[0m       root    _       \n",
      "\u001b[33mSpaceAfter\u001b[0m=\u001b[35mNo\u001b[0m|\u001b[33mBunsetuBILabel\u001b[0m=\u001b[35mB\u001b[0m|\u001b[33mBunsetuPositionType\u001b[0m=\u001b[35mROOT\u001b[0m|\u001b[33mInf\u001b[0m=\u001b[35m五段\u001b[0m-ワア行,連用形-\n",
      "ウ音便|\u001b[33mReading\u001b[0m=\u001b[35mシタゴウ\u001b[0m\n",
      "\u001b[1;36m6\u001b[0m       て       て       SCONJ   助詞-接続助詞 _       \u001b[1;36m5\u001b[0m       mark    _       \n",
      "\u001b[33mSpaceAfter\u001b[0m=\u001b[35mNo\u001b[0m|\u001b[33mBunsetuBILabel\u001b[0m=\u001b[35mI\u001b[0m|\u001b[33mBunsetuPositionType\u001b[0m=\u001b[35mSYN_HEAD\u001b[0m|\u001b[33mReading\u001b[0m=\u001b[35mテ\u001b[0m\n",
      "\u001b[1;36m7\u001b[0m       、       、       PUNCT   補助記号-読点 _       \u001b[1;36m5\u001b[0m       punct   _       \n",
      "\u001b[33mSpaceAfter\u001b[0m=\u001b[35mNo\u001b[0m|\u001b[33mBunsetuBILabel\u001b[0m=\u001b[35mI\u001b[0m|\u001b[33mBunsetuPositionType\u001b[0m=\u001b[35mCONT\u001b[0m|\u001b[33mReading\u001b[0m=、\n",
      "\n",
      "\n",
      "\u001b[2KWorking... \u001b[90m━━━━━━━━━━━━━━━━━━━━━━━━━━━━━━━━━━━━━━━━\u001b[0m \u001b[35m100%\u001b[0m \u001b[36m0:00:00\u001b[0m\n",
      "\u001b[?25h\u001b[1;32mwrote output conllu to out/out.conllu\u001b[0m\n"
     ]
    }
   ],
   "source": [
    "!echo \"社會の發達に從ふて、\" | python modify_conllu.py True \"ginza\" \"out\""
   ]
  },
  {
   "cell_type": "code",
   "execution_count": null,
   "metadata": {},
   "outputs": [],
   "source": []
  }
 ],
 "metadata": {
  "interpreter": {
   "hash": "993bbb381b41bd2b39be2147460e2277e403ff673448a0396ff9bf1e59cf74fb"
  },
  "kernelspec": {
   "display_name": "Python 3.9.1 ('blueberry')",
   "language": "python",
   "name": "python3"
  },
  "language_info": {
   "codemirror_mode": {
    "name": "ipython",
    "version": 3
   },
   "file_extension": ".py",
   "mimetype": "text/x-python",
   "name": "python",
   "nbconvert_exporter": "python",
   "pygments_lexer": "ipython3",
   "version": "3.9.1"
  },
  "orig_nbformat": 4
 },
 "nbformat": 4,
 "nbformat_minor": 2
}
